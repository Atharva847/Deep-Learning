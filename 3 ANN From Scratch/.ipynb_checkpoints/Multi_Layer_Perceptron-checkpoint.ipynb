{
 "cells": [
  {
   "cell_type": "code",
   "execution_count": 1,
   "id": "dcbf92df-f57d-4930-852e-f06bf4f820d1",
   "metadata": {},
   "outputs": [],
   "source": [
    "import numpy as np\n",
    "import pandas as pd\n",
    "from sklearn.preprocessing import LabelEncoder, StandardScaler\n",
    "from sklearn.model_selection import train_test_split"
   ]
  },
  {
   "cell_type": "code",
   "execution_count": 2,
   "id": "07430140-9cfc-4599-a46e-0a3b80275266",
   "metadata": {},
   "outputs": [],
   "source": [
    "class MultiLayerPerceptron:\n",
    "\n",
    "    def __init__(self, input_size, hidden_size, output_size, lr, l2_lambda):\n",
    "        self.W1 = np.random.randn(input_size, hidden_size) * np.sqrt(6/input_size)\n",
    "        self.B1 = np.zeros((1, hidden_size))\n",
    "        self.W2 = np.random.randn(hidden_size, output_size) * np.sqrt(6/input_size)\n",
    "        self.B2 = np.zeros((1, output_size))\n",
    "        self.lr = lr\n",
    "        self.l2_lambda = l2_lambda\n",
    "\n",
    "    def relu(self, x):\n",
    "        return np.maximum(0, x)\n",
    "\n",
    "    def relu_derivative(self, x):\n",
    "        return np.where(x > 0, 1, 0)\n",
    "\n",
    "    def sigmoid(self, x):\n",
    "        return 1/(1 + np.exp(-x))\n",
    "\n",
    "    def sigmoid_derivative(self, x):\n",
    "        return x * (1 - x)\n",
    "\n",
    "    def forwardPropagation(self, X):\n",
    "        self.z1 = np.dot(X, self.W1) + self.B1\n",
    "        self.a1 = self.relu(self.z1)\n",
    "        self.z2 = np.dot(self.a1, self.W2) + self.B2\n",
    "        self.a2 = self.sigmoid(self.z2)\n",
    "        return self.a2\n",
    "        \n",
    "    def backPropagation(self, X, y):\n",
    "        y = y.reshape(-1, 1)\n",
    "        \n",
    "        delta2 = self.a2 - y\n",
    "        delta1 = np.dot(delta2, self.W2.T) * self.relu_derivative(self.a1)\n",
    "\n",
    "        self.W2 -= self.lr * (np.dot(self.a1.T, delta2) + self.l2_lambda * self.W2)\n",
    "        self.B2 -= self.lr * np.sum(delta2, axis=0, keepdims=True)\n",
    "        self.W1 -= self.lr * (np.dot(X.T, delta1) + self.l2_lambda * self.W1)\n",
    "        self.B1 -= self.lr * np.sum(delta1, axis=0, keepdims=True)\n",
    "\n",
    "    def evaluate(self, y, y_hat):\n",
    "        epsilon = 1e-10\n",
    "        return -np.mean(y * np.log(y_hat + epsilon) + (1 - y) * np.log(1 - y_hat + epsilon))\n",
    "\n",
    "    def train(self, X, y, epochs):\n",
    "        for epoch in range(epochs):\n",
    "            output = self.forwardPropagation(X)\n",
    "            self.backPropagation(X, y)\n",
    "\n",
    "            if epoch % 500 == 0:\n",
    "                loss = self.evaluate(y, output)\n",
    "                print(f\"Epoch {epoch}, Loss: {loss:.6f}\")"
   ]
  },
  {
   "cell_type": "code",
   "execution_count": 3,
   "id": "d1f640f7-5da5-4aa6-973f-0e273aee7a44",
   "metadata": {},
   "outputs": [],
   "source": [
    "df = pd.read_csv('Diabetes Binary Classification.csv')\n",
    "X = df.iloc[:,0:8].values\n",
    "y = df.iloc[:, -1].values"
   ]
  },
  {
   "cell_type": "code",
   "execution_count": 4,
   "id": "16292b45-8d96-4b5c-b0c4-9c560f31338c",
   "metadata": {},
   "outputs": [
    {
     "data": {
      "text/plain": [
       "(768, 8)"
      ]
     },
     "execution_count": 4,
     "metadata": {},
     "output_type": "execute_result"
    }
   ],
   "source": [
    "X.shape"
   ]
  },
  {
   "cell_type": "code",
   "execution_count": 5,
   "id": "f97c0245-6dc5-4046-9d56-4d2d5f65438c",
   "metadata": {},
   "outputs": [],
   "source": [
    "X_train, X_test, Y_train, Y_test = train_test_split(X,y, random_state=2, test_size=0.2)"
   ]
  },
  {
   "cell_type": "code",
   "execution_count": 6,
   "id": "1cc09306-be56-42c7-9945-05a07424c353",
   "metadata": {},
   "outputs": [],
   "source": [
    "sc = StandardScaler()\n",
    "X_train_scaled = sc.fit_transform(X_train)\n",
    "X_test_scaled = sc.transform(X_test)"
   ]
  },
  {
   "cell_type": "code",
   "execution_count": 7,
   "id": "eafe19d4-6b63-4bce-b23f-3644091c08c6",
   "metadata": {},
   "outputs": [],
   "source": [
    "from sklearn.metrics import accuracy_score"
   ]
  },
  {
   "cell_type": "code",
   "execution_count": 8,
   "id": "4d7703b2-1435-45fd-91b2-965b34006ede",
   "metadata": {},
   "outputs": [
    {
     "name": "stdout",
     "output_type": "stream",
     "text": [
      "Epoch 0, Loss: 2.231157\n",
      "Epoch 500, Loss: 1.175188\n",
      "\n",
      "Accuracy: 0.7857\n"
     ]
    }
   ],
   "source": [
    "mlp = MultiLayerPerceptron(input_size=8, hidden_size=40, output_size=1, lr=0.001, l2_lambda=0.5)\n",
    "mlp.train(X_train_scaled, Y_train, epochs=1000)\n",
    "# Evaluate on test data\n",
    "y_pred = mlp.forwardPropagation(X_test_scaled)\n",
    "y_pred_binary = (y_pred >= 0.5).astype(int)\n",
    "\n",
    "accuracy = np.mean(y_pred_binary == Y_test.reshape(-1, 1))\n",
    "print(f\"\\nAccuracy: {accuracy:.4f}\")"
   ]
  },
  {
   "cell_type": "code",
   "execution_count": null,
   "id": "c9b19b73-7649-482e-91c0-38e688ef22bd",
   "metadata": {},
   "outputs": [],
   "source": []
  },
  {
   "cell_type": "code",
   "execution_count": null,
   "id": "ec3a2770-4c7b-4f21-8861-8caf08678501",
   "metadata": {},
   "outputs": [],
   "source": []
  }
 ],
 "metadata": {
  "kernelspec": {
   "display_name": "Python 3 (ipykernel)",
   "language": "python",
   "name": "python3"
  },
  "language_info": {
   "codemirror_mode": {
    "name": "ipython",
    "version": 3
   },
   "file_extension": ".py",
   "mimetype": "text/x-python",
   "name": "python",
   "nbconvert_exporter": "python",
   "pygments_lexer": "ipython3",
   "version": "3.10.0"
  }
 },
 "nbformat": 4,
 "nbformat_minor": 5
}
